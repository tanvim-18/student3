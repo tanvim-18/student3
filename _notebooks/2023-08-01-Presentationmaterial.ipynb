{
 "cells": [
  {
   "cell_type": "code",
   "execution_count": 1,
   "id": "dcf59533",
   "metadata": {},
   "outputs": [
    {
     "name": "stdout",
     "output_type": "stream",
     "text": [
      "hello, world!\n"
     ]
    }
   ],
   "source": [
    "print(\"hello, world!\")"
   ]
  },
  {
   "cell_type": "code",
   "execution_count": 2,
   "id": "3f341d91",
   "metadata": {},
   "outputs": [
    {
     "name": "stdout",
     "output_type": "stream",
     "text": [
      "enter your name:tanvi\n",
      "hello, tanvi!\n"
     ]
    }
   ],
   "source": [
    "name = input(\"enter your name:\")\n",
    "print(f\"hello, {name}!\")"
   ]
  },
  {
   "cell_type": "markdown",
   "id": "6e113fe3",
   "metadata": {},
   "source": [
    "---\n",
    "toc: true\n",
    "comments: true\n",
    "layout: post\n",
    "title: Week 7 plans\n",
    "description: This is what I did from in week 7\n",
    "type: plans\n",
    "courses: { compsci: {week: 7} }\n",
    "---\n"
   ]
  },
  {
   "cell_type": "code",
   "execution_count": 3,
   "id": "d5243c50",
   "metadata": {},
   "outputs": [
    {
     "name": "stdout",
     "output_type": "stream",
     "text": [
      "John\n"
     ]
    }
   ],
   "source": [
    "student = {\"name\": \"John\", \"age\": 20, \"grade\": \"A\"}\n",
    "print(student[\"name\"])"
   ]
  },
  {
   "cell_type": "code",
   "execution_count": 4,
   "id": "09d4aeca",
   "metadata": {},
   "outputs": [
    {
     "name": "stdout",
     "output_type": "stream",
     "text": [
      "apple\n",
      "banana\n",
      "cherry\n"
     ]
    }
   ],
   "source": [
    " fruits = [\"apple\", \"banana\", \"cherry\"]\n",
    "for fruit in fruits:\n",
    "    print(fruit)"
   ]
  },
  {
   "cell_type": "code",
   "execution_count": 5,
   "id": "2bf6f560",
   "metadata": {},
   "outputs": [
    {
     "name": "stdout",
     "output_type": "stream",
     "text": [
      "Number 1\n",
      "Number 2\n",
      "Number 3\n",
      "Number 4\n",
      "Number 5\n"
     ]
    }
   ],
   "source": [
    "for i in range(1, 6):\n",
    "    print(f\"Number {i}\")"
   ]
  },
  {
   "cell_type": "code",
   "execution_count": 6,
   "id": "4349a17a",
   "metadata": {},
   "outputs": [
    {
     "name": "stdout",
     "output_type": "stream",
     "text": [
      "Average grade: 86.6\n"
     ]
    }
   ],
   "source": [
    "def calculate_average(numbers):\n",
    "    total = sum(numbers)\n",
    "    average = total / len(numbers)\n",
    "    return average\n",
    "grades = [85, 90, 78, 92, 88]\n",
    "avg_grade = calculate_average(grades)\n",
    "print(f\"Average grade: {avg_grade}\")"
   ]
  },
  {
   "cell_type": "code",
   "execution_count": 7,
   "id": "e8f329a0",
   "metadata": {},
   "outputs": [
    {
     "name": "stdout",
     "output_type": "stream",
     "text": [
      "It's warm outside.\n"
     ]
    }
   ],
   "source": [
    " temperature = 25\n",
    "if temperature > 30:\n",
    "    print(\"It's hot outside.\")\n",
    "elif temperature > 20:\n",
    "    print(\"It's warm outside.\")\n",
    "else:\n",
    "    print(\"It's cold outside.\")"
   ]
  },
  {
   "cell_type": "code",
   "execution_count": 8,
   "id": "292ba2be",
   "metadata": {},
   "outputs": [
    {
     "name": "stdout",
     "output_type": "stream",
     "text": [
      "Tax due on $60000 income: $2000.0\n"
     ]
    }
   ],
   "source": [
    "def calculate_tax(income):\n",
    "    if income <= 50000:\n",
    "        tax = 0.1 * income\n",
    "    else:\n",
    "        tax = 0.2 * (income - 50000)\n",
    "    return tax\n",
    "\n",
    "income = 60000\n",
    "tax_due = calculate_tax(income)\n",
    "print(f\"Tax due on ${income} income: ${tax_due}\")"
   ]
  },
  {
   "cell_type": "code",
   "execution_count": 9,
   "id": "b512919e",
   "metadata": {},
   "outputs": [
    {
     "name": "stdout",
     "output_type": "stream",
     "text": [
      "What is the symbol for Nitrogen? N\n",
      "Correct! Well done.\n",
      "Play again? (yes/no): yes\n",
      "What is the symbol for Helium? p\n",
      "Sorry, the correct symbol for Helium is He.\n",
      "Play again? (yes/no): no\n"
     ]
    }
   ],
   "source": [
    "import random\n",
    "\n",
    "# Dictionary of chemical elements and their symbols\n",
    "chemical_elements = {\n",
    "    \"Hydrogen\": \"H\",\n",
    "    \"Helium\": \"He\",\n",
    "    \"Carbon\": \"C\",\n",
    "    \"Oxygen\": \"O\",\n",
    "    \"Nitrogen\": \"N\",\n",
    "    # Add more elements here\n",
    "}\n",
    "\n",
    "def quiz_user():\n",
    "    # Choose a random element\n",
    "    element, symbol = random.choice(list(chemical_elements.items()))\n",
    "   \n",
    "    # Ask the user for the symbol of the element\n",
    "    user_input = input(f\"What is the symbol for {element}? \").strip()\n",
    "   \n",
    "    # Check the user's answer\n",
    "    if user_input.upper() == symbol:\n",
    "        print(\"Correct! Well done.\")\n",
    "    else:\n",
    "        print(f\"Sorry, the correct symbol for {element} is {symbol}.\")\n",
    "\n",
    "# Play the game\n",
    "while True:\n",
    "    try:\n",
    "        quiz_user()\n",
    "        play_again = input(\"Play again? (yes/no): \").strip().lower()\n",
    "        if play_again != \"yes\":\n",
    "            break\n",
    "    except KeyboardInterrupt:\n",
    "        print(\"\\nGoodbye!\")\n",
    "        break\n",
    "    except Exception as e:\n",
    "        print(f\"An error occurred: {e}\")"
   ]
  },
  {
   "cell_type": "code",
   "execution_count": null,
   "id": "23a515ce",
   "metadata": {},
   "outputs": [],
   "source": []
  }
 ],
 "metadata": {
  "kernelspec": {
   "display_name": "Python 3 (ipykernel)",
   "language": "python",
   "name": "python3"
  },
  "language_info": {
   "codemirror_mode": {
    "name": "ipython",
    "version": 3
   },
   "file_extension": ".py",
   "mimetype": "text/x-python",
   "name": "python",
   "nbconvert_exporter": "python",
   "pygments_lexer": "ipython3",
   "version": "3.10.12"
  }
 },
 "nbformat": 4,
 "nbformat_minor": 5
}
