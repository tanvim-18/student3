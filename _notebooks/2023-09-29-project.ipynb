{
 "cells": [
  {
   "cell_type": "markdown",
   "metadata": {},
   "source": [
    "---\n",
    "toc: true\n",
    "comments: true\n",
    "layout: post\n",
    "title: My personal presentation and code projects for live review\n",
    "description: \n",
    "type: hacks\n",
    "courses: { compsci: {week: 7} }\n",
    "---\n"
   ]
  },
  {
   "cell_type": "code",
   "execution_count": 68,
   "metadata": {
    "vscode": {
     "languageId": "html"
    }
   },
   "outputs": [
    {
     "data": {
      "text/html": [
       "<h3>Hi, this is my title</h3>\n",
       "<p>This is my text </p>\n",
       "<script>\n",
       "    console.log(\"Output to console, showing that JavaScript code is running\")\n",
       "</script>\n"
      ],
      "text/plain": [
       "<IPython.core.display.HTML object>"
      ]
     },
     "metadata": {},
     "output_type": "display_data"
    }
   ],
   "source": [
    "%%html\n",
    "<h3>Hi, this is my title</h3>\n",
    "<p>This is my text </p>\n",
    "<script>\n",
    "    console.log(\"Output to console, showing that JavaScript code is running\")\n",
    "</script>"
   ]
  },
  {
   "cell_type": "code",
   "execution_count": 1,
   "metadata": {},
   "outputs": [
    {
     "data": {
      "text/html": [
       "<html>\n",
       "<head>\n",
       "    <title>Coloring Game</title>\n",
       "    <style>\n",
       "            .color-box {\n",
       "            width: 30px;\n",
       "            height: 30px;\n",
       "            display: inline-block;\n",
       "            cursor: pointer;\n",
       "        }\n",
       "        #canvas {\n",
       "            display: grid;\n",
       "            grid-template-columns: repeat(10, 30px);\n",
       "            grid-gap: 2px;\n",
       "        }\n",
       "    </style>\n",
       "</head>\n",
       "<body>\n",
       "    <h1>Coloring Game</h1>\n",
       "    <p>Select a color and click on the canvas to paint!</p>\n",
       "\n",
       "    <div>\n",
       "        <h2>Color Palette:</h2>\n",
       "        <div class=\"color-box\" style=\"background-color: red;\" onclick=\"setColor('red')\"></div>\n",
       "        <div class=\"color-box\" style=\"background-color: blue;\" onclick=\"setColor('blue')\"></div>\n",
       "        <div class=\"color-box\" style=\"background-color: green;\" onclick=\"setColor('green')\"></div>\n",
       "        <div class=\"color-box\" style=\"background-color: yellow;\" onclick=\"setColor('yellow')\"></div>\n",
       "        <div class=\"color-box\" style=\"background-color: purple;\" onclick=\"setColor('purple')\"></div>\n",
       "    </div>\n",
       "\n",
       "    <div>\n",
       "        <h2>Canvas:</h2>\n",
       "        <div id=\"canvas\"></div>\n",
       "    </div>\n",
       "\n",
       "    <script>\n",
       "        function setColor(color) {\n",
       "            selectedColor = color;\n",
       "        }\n",
       "\n",
       "        function createCanvas() {\n",
       "            const canvas = document.getElementById('canvas');\n",
       "\n",
       "            for (let i = 0; i < 100; i++) {\n",
       "                const cell = document.createElement('div');\n",
       "                cell.style.width = '30px';\n",
       "                cell.style.height = '30px';\n",
       "                cell.style.border = '1px solid #ccc';\n",
       "                cell.style.backgroundColor = 'white';\n",
       "\n",
       "                cell.addEventListener('click', function () {\n",
       "                    this.style.backgroundColor = selectedColor;\n",
       "                });\n",
       "\n",
       "                canvas.appendChild(cell);\n",
       "            }\n",
       "        }\n",
       "\n",
       "        createCanvas();\n",
       "    </script>\n",
       "</body>\n",
       "</html>\n"
      ],
      "text/plain": [
       "<IPython.core.display.HTML object>"
      ]
     },
     "metadata": {},
     "output_type": "display_data"
    }
   ],
   "source": [
    "%%html\n",
    "<html>\n",
    "<head>\n",
    "    <title>Coloring Game</title>\n",
    "    <style>\n",
    "            .color-box {\n",
    "            width: 30px;\n",
    "            height: 30px;\n",
    "            display: inline-block;\n",
    "            cursor: pointer;\n",
    "        }\n",
    "        #canvas {\n",
    "            display: grid;\n",
    "            grid-template-columns: repeat(10, 30px);\n",
    "            grid-gap: 2px;\n",
    "        }\n",
    "    </style>\n",
    "</head>\n",
    "<body>\n",
    "    <h1>Coloring Game</h1>\n",
    "    <p>Select a color and click on the canvas to paint!</p>\n",
    "\n",
    "    <div>\n",
    "        <h2>Color Palette:</h2>\n",
    "        <div class=\"color-box\" style=\"background-color: red;\" onclick=\"setColor('red')\"></div>\n",
    "        <div class=\"color-box\" style=\"background-color: blue;\" onclick=\"setColor('blue')\"></div>\n",
    "        <div class=\"color-box\" style=\"background-color: green;\" onclick=\"setColor('green')\"></div>\n",
    "        <div class=\"color-box\" style=\"background-color: yellow;\" onclick=\"setColor('yellow')\"></div>\n",
    "        <div class=\"color-box\" style=\"background-color: purple;\" onclick=\"setColor('purple')\"></div>\n",
    "    </div>\n",
    "\n",
    "    <div>\n",
    "        <h2>Canvas:</h2>\n",
    "        <div id=\"canvas\"></div>\n",
    "    </div>\n",
    "\n",
    "    <script>\n",
    "        function setColor(color) {\n",
    "            selectedColor = color;\n",
    "        }\n",
    "\n",
    "        function createCanvas() {\n",
    "            const canvas = document.getElementById('canvas');\n",
    "\n",
    "            for (let i = 0; i < 100; i++) {\n",
    "                const cell = document.createElement('div');\n",
    "                cell.style.width = '30px';\n",
    "                cell.style.height = '30px';\n",
    "                cell.style.border = '1px solid #ccc';\n",
    "                cell.style.backgroundColor = 'white';\n",
    "\n",
    "                cell.addEventListener('click', function () {\n",
    "                    this.style.backgroundColor = selectedColor;\n",
    "                });\n",
    "\n",
    "                canvas.appendChild(cell);\n",
    "            }\n",
    "        }\n",
    "\n",
    "        createCanvas();\n",
    "    </script>\n",
    "</body>\n",
    "</html>\n"
   ]
  },
  {
   "cell_type": "markdown",
   "metadata": {},
   "source": [
    "<!-- first information -->\n",
    "<div>\n",
    "    <!-- notice how tags can be put INSIDE eachother -->\n",
    "    <p> JAVASCRIPT: Write a JavaScript program that compares two variables, a and b. Log “a is greater” if a is greater than b, “b is greater” if b is greater than a, and “both are equal” if a and b are equal. Make sure to use if statements and console.log\n"
   ]
  },
  {
   "cell_type": "code",
   "execution_count": 5,
   "metadata": {
    "vscode": {
     "languageId": "javascript"
    }
   },
   "outputs": [
    {
     "data": {
      "application/javascript": "console.log(\"If statements + Operators\")\nvar tanviage = 100\nvar age2 = 15\n\nif (tanviage > age2) {\n    // runs if tanviage is more than age2\n    console.log(\"tanviage is more than age2\")\n} else if (tanviage === age2) {\n    // runs if tanviage and age2 are the same\n    console.log(\"tanviage is the same as age2\")\n} else  {\n    // runs if age2 is more than tanviage\n    console.log(\"tanvi is younger than age2\")\n}\n",
      "text/plain": [
       "<IPython.core.display.Javascript object>"
      ]
     },
     "metadata": {},
     "output_type": "display_data"
    }
   ],
   "source": [
    "\n",
    "%%javascript\n",
    "console.log(\"If statements + Operators\")\n",
    "var tanviage = 100\n",
    "var age2 = 15\n",
    "\n",
    "if (tanviage > age2) {\n",
    "    // runs if tanviage is more than age2\n",
    "    console.log(\"tanviage is more than age2\")\n",
    "} else if (tanviage === age2) {\n",
    "    // runs if tanviage and age2 are the same\n",
    "    console.log(\"tanviage is the same as age2\")\n",
    "} else  {\n",
    "    // runs if age2 is more than tanviage\n",
    "    console.log(\"tanvi is younger than age2\")\n",
    "}\n"
   ]
  },
  {
   "cell_type": "markdown",
   "metadata": {},
   "source": [
    "<!-- first information -->\n",
    "<div>\n",
    "    <!-- notice how tags can be put INSIDE eachother -->\n",
    "    <p>DATA TYPES:\n",
    "    Create an object representing yourself as a person. The object should have keys for your name, age, current classes, interests, and two more of your choosing</p>\n",
    "    <p>Your object must contain keys whose values are arrays. The arrays can be arrays of strings, numbers, or even other objects if you would like</p>\n",
    "</div>\n",
    "\n",
    "<!-- second information -->\n",
    "<div>\n",
    "    <!-- notice how tags can be put INSIDE eachother -->\n",
    "    <p>Print the entire object with console.log after declaring it</p>\n",
    "    <p>Manipulate the arrays within the object and print the entire object with console.log as well as the specific changed key afterwards</p>\n",
    "    <p>Perform mathematical operations on fields in your object such as +, -, /, % etc. and print the results with console.log along with a message contextualizing them </p>\n",
    "    <p>Use typeof to determine the types of at least 3 fields in your object </p>"
   ]
  },
  {
   "cell_type": "code",
   "execution_count": null,
   "metadata": {
    "vscode": {
     "languageId": "javascript"
    }
   },
   "outputs": [
    {
     "data": {
      "application/javascript": "// Create an object representing a person\nconst person = {\n    name: \"Tanvi Movva\",\n    age: 15,\n    currentClasses: [\"Calc\", \"CSP\"],\n    interests: [\"Running\", \"Dancing\", \"Spending time w friends\"],\n    favFood: [\"mac n cheese\"],\n    favDrink: [\"lemonade\"]\n};\n\n// Print the entire object\nconsole.log(\"Original Person Object:\");\nconsole.log(person);\n\n// Manipulate arrays within the object\nperson.currentClasses.push(\"Chem\");\nperson.interests.splice(1, 1, \"sleeping\");\n\n// Display current classes and interests\nconsole.log(\"Current Classes:\", person.currentClasses);\nconsole.log(\"Interests:\", person.interests);\n\n// Perform mathematical operations\nconst ageInDays = person.age * 365;\nconst ageInMonths = person.age * 12;\n\n// Print results with contextual messages\nconsole.log(\"Age in Days:\", ageInDays, \"days\");\nconsole.log(\"Age in Months:\", ageInMonths, \"months\");\n\n// Use typeof to determine types\nconsole.log(\"Type of 'name':\", typeof person.name);\nconsole.log(\"Type of 'age':\", typeof person.age);\nconsole.log(\"Type of 'currentClasses':\", typeof person.currentClasses);\n",
      "text/plain": [
       "<IPython.core.display.Javascript object>"
      ]
     },
     "metadata": {},
     "output_type": "display_data"
    }
   ],
   "source": [
    "%%js\n",
    "// Create an object representing a person\n",
    "const person = {\n",
    "    name: \"Tanvi Movva\",\n",
    "    age: 15,\n",
    "    currentClasses: [\"Calc\", \"CSP\"],\n",
    "    interests: [\"Running\", \"Dancing\", \"Spending time w friends\"],\n",
    "    favFood: [\"mac n cheese\"],\n",
    "    favDrink: [\"lemonade\"]\n",
    "};\n",
    "\n",
    "// Print the entire object\n",
    "console.log(\"Original Person Object:\");\n",
    "console.log(person);\n",
    "\n",
    "// Manipulate arrays within the object\n",
    "person.currentClasses.push(\"Chem\");\n",
    "person.interests.splice(1, 1, \"sleeping\");\n",
    "\n",
    "// Display current classes and interests\n",
    "console.log(\"Current Classes:\", person.currentClasses);\n",
    "console.log(\"Interests:\", person.interests);\n",
    "\n",
    "// Perform mathematical operations\n",
    "const ageInDays = person.age * 365;\n",
    "const ageInMonths = person.age * 12;\n",
    "\n",
    "// Print results with contextual messages\n",
    "console.log(\"Age in Days:\", ageInDays, \"days\");\n",
    "console.log(\"Age in Months:\", ageInMonths, \"months\");\n",
    "\n",
    "// Use typeof to determine types\n",
    "console.log(\"Type of 'name':\", typeof person.name);\n",
    "console.log(\"Type of 'age':\", typeof person.age);\n",
    "console.log(\"Type of 'currentClasses':\", typeof person.currentClasses);\n"
   ]
  },
  {
   "cell_type": "markdown",
   "metadata": {},
   "source": [
    "<!-- first information -->\n",
    "<div>\n",
    "    <!-- notice how tags can be put INSIDE eachother -->\n",
    "    <p>Copy your HTML code from the HTML hacks. Write a Javascript snippet to switch the links of the two a tags when a button is pressed. Once they are switched, change the inner HTML of the top p tag to the word “switched!”\n"
   ]
  },
  {
   "cell_type": "code",
   "execution_count": 99,
   "metadata": {
    "vscode": {
     "languageId": "html"
    }
   },
   "outputs": [
    {
     "data": {
      "text/html": [
       "<!-- html code goes here (make sure to run) -->\n",
       "\n",
       "<script>\n",
       "  // your javascript code goes here\n",
       "\n",
       "\n",
       "%%javascript\n",
       "console.log(\"If statements + Operators\")\n",
       "var tanviage = 15\n",
       "var age2 = 15\n",
       "\n",
       "if (tanviage > age2) {\n",
       "    // runs if tanviage is more than age2\n",
       "    console.log(\"tanviage is more than age2\")\n",
       "} else if (tanviage === age2) {\n",
       "    // runs if tanviage and age2 are the same\n",
       "    console.log(\"tanviage is the same as age2\")\n",
       "} else  {\n",
       "    // runs if age2 is more than tanviage\n",
       "    console.log(\"tanvi is younger than age2\")\n",
       "}\n",
       "</script>\n"
      ],
      "text/plain": [
       "<IPython.core.display.HTML object>"
      ]
     },
     "metadata": {},
     "output_type": "display_data"
    }
   ],
   "source": [
    "%%html\n",
    "<!-- html code goes here (make sure to run) -->\n",
    "\n",
    "<script>\n",
    "  // your javascript code goes here\n",
    "\n",
    "\n",
    "%%javascript\n",
    "console.log(\"If statements + Operators\")\n",
    "var tanviage = 15\n",
    "var age2 = 15\n",
    "\n",
    "if (tanviage > age2) {\n",
    "    // runs if tanviage is more than age2\n",
    "    console.log(\"tanviage is more than age2\")\n",
    "} else if (tanviage === age2) {\n",
    "    // runs if tanviage and age2 are the same\n",
    "    console.log(\"tanviage is the same as age2\")\n",
    "} else  {\n",
    "    // runs if age2 is more than tanviage\n",
    "    console.log(\"tanvi is younger than age2\")\n",
    "}\n",
    "</script>\n"
   ]
  },
  {
   "cell_type": "markdown",
   "metadata": {},
   "source": [
    "<!-- first information -->\n",
    "<div>\n",
    "    <!-- notice how tags can be put INSIDE eachother -->\n",
    "    <p>Correcting errors: Fix the errors in the first three segments in this notebook and say what you changed in the code cell under “What I Changed” (Challenge is optional)"
   ]
  },
  {
   "cell_type": "code",
   "execution_count": 84,
   "metadata": {
    "vscode": {
     "languageId": "javascript"
    }
   },
   "outputs": [
    {
     "data": {
      "application/javascript": "\nvar alphabet = \"abcdefghijklmnopqrstuvwxyz\";\nvar alphabetList = [];\n\nfor (var i = 0; i < alphabet.length; i++) { // Change the condition to alphabet.length\n\talphabetList.push(alphabet[i]); // Push alphabet characters, not numbers\n}\n\nconsole.log(alphabetList);\n",
      "text/plain": [
       "<IPython.core.display.Javascript object>"
      ]
     },
     "metadata": {},
     "output_type": "display_data"
    }
   ],
   "source": [
    "%%js\n",
    "\n",
    "var alphabet = \"abcdefghijklmnopqrstuvwxyz\";\n",
    "var alphabetList = [];\n",
    "\n",
    "for (var i = 0; i < alphabet.length; i++) { // Change the condition to alphabet.length\n",
    "\talphabetList.push(alphabet[i]); // Push alphabet characters, not numbers\n",
    "}\n",
    "\n",
    "console.log(alphabetList);\n"
   ]
  },
  {
   "cell_type": "markdown",
   "metadata": {},
   "source": [
    "<!-- first information -->\n",
    "<div>\n",
    "    <!-- notice how tags can be put INSIDE eachother -->\n",
    "    <p>I changed the loop condition from i < 10 to i < alphabet.length to loop through the entire alphabet."
   ]
  },
  {
   "cell_type": "code",
   "execution_count": 1,
   "metadata": {
    "vscode": {
     "languageId": "javascript"
    }
   },
   "outputs": [
    {
     "data": {
      "application/javascript": "\nvar alphabet = \"abcdefghijklmnopqrstuvwxyz\";\nvar alphabetList = [];\n\nfor (var i = 0; i < alphabet.length; i++) { // Change the condition to alphabet.length\n\talphabetList.push(alphabet[i]); // Push alphabet characters, not numbers\n}\n\nconsole.log(alphabetList);\n\nvar letterNumber = 5; // The number for which you want to find the letter\n\nfor (var i = 0; i < alphabetList.length; i++) { // Change the condition to alphabetList.length\n\tif (i === letterNumber - 1) { // Adjusted to match 0-based index\n\t\tconsole.log(alphabetList[i] + \" is letter number \" + (i + 1) + \" in the alphabet\"); // Adjusted the message\n\t}\n}\n",
      "text/plain": [
       "<IPython.core.display.Javascript object>"
      ]
     },
     "metadata": {},
     "output_type": "display_data"
    }
   ],
   "source": [
    "%%js\n",
    "\n",
    "var alphabet = \"abcdefghijklmnopqrstuvwxyz\";\n",
    "var alphabetList = [];\n",
    "\n",
    "for (var i = 0; i < alphabet.length; i++) { // Change the condition to alphabet.length\n",
    "\talphabetList.push(alphabet[i]); // Push alphabet characters, not numbers\n",
    "}\n",
    "\n",
    "console.log(alphabetList);\n",
    "\n",
    "var letterNumber = 5; // The number for which you want to find the letter\n",
    "\n",
    "for (var i = 0; i < alphabetList.length; i++) { // Change the condition to alphabetList.length\n",
    "\tif (i === letterNumber - 1) { // Adjusted to match 0-based index\n",
    "\t\tconsole.log(alphabetList[i] + \" is letter number \" + (i + 1) + \" in the alphabet\"); // Adjusted the message\n",
    "\t}\n",
    "}\n"
   ]
  },
  {
   "cell_type": "markdown",
   "metadata": {},
   "source": [
    "<!-- first information -->\n",
    "<div>\n",
    "    <!-- notice how tags can be put INSIDE eachother -->\n",
    "    <p>I added var alphabet = \"abcdefghijklmnopqrstuvwxyz\"; to ensure that we have the alphabet characters available.\n",
    "I corrected the loop condition to i < alphabetList.length to loop through the entire alphabet.\n",
    "I adjusted the comparison to (i === letterNumber - 1) to match the 0-based index. This way, it will correctly print the letter corresponding to the provided letterNumber."
   ]
  },
  {
   "cell_type": "code",
   "execution_count": 89,
   "metadata": {
    "vscode": {
     "languageId": "javascript"
    }
   },
   "outputs": [
    {
     "data": {
      "application/javascript": "\nlet odds = [];\nlet i = 1;\n\nwhile (i <= 10) {\n  odds.push(i);\n  i += 2;\n}\n\nconsole.log(odds);\n",
      "text/plain": [
       "<IPython.core.display.Javascript object>"
      ]
     },
     "metadata": {},
     "output_type": "display_data"
    }
   ],
   "source": [
    "%%js\n",
    "\n",
    "let odds = [];\n",
    "let i = 1;\n",
    "\n",
    "while (i <= 10) {\n",
    "  odds.push(i);\n",
    "  i += 2;\n",
    "}\n",
    "\n",
    "console.log(odds);"
   ]
  },
  {
   "cell_type": "markdown",
   "metadata": {},
   "source": [
    "<!-- first information -->\n",
    "<div>\n",
    "    <!-- notice how tags can be put INSIDE eachother -->\n",
    "    <p>I changed the array evens, to be called odds, then I started it from 1, instead of 0"
   ]
  },
  {
   "cell_type": "code",
   "execution_count": 2,
   "metadata": {
    "vscode": {
     "languageId": "html"
    }
   },
   "outputs": [
    {
     "data": {
      "text/html": [
       "<!-- the ID must be specified on the elements -->\n",
       "<button id=\"buttonID\">Switched!</button>\n",
       "\n",
       "<div id=\"divContainerIDbutton\">\n",
       "    <h1 id=\"h1ElementIDbutton\">TITLE</h1>\n",
       "</div>\n",
       "\n",
       "<!-- our javascript goe here -->\n",
       "<script>\n",
       "    // define a function => takes parameter text, returns a new p tab\n",
       "    function createPTag(text) {\n",
       "        // creates a new element\n",
       "        var pElement = document.createElement(\"p\")\n",
       "\n",
       "        // using the parameter like a variable\n",
       "        pElement.innerHTML = text\n",
       "        \n",
       "        // outputs p tag after it has been created\n",
       "        console.log(\"Example #7.1, add p tag using a function\")\n",
       "        console.log(pElement)\n",
       "\n",
       "        return pElement;\n",
       "    }\n",
       "\n",
       "    // create a function that sets specific text and adds to div\n",
       "    function addPTagOnButton() {\n",
       "        // using our new function\n",
       "        var pTag = createPTag(\"WOW you switched it\")\n",
       "\n",
       "        // place the p element in the webpage\n",
       "        var div = document.getElementById(\"divContainerIDbutton\")\n",
       "\n",
       "        // add p tag to the div\n",
       "        div.appendChild(pTag)\n",
       "        \n",
       "        // outputs p tag after it has been created\n",
       "        console.log(\"Example #7.2, update container adding a 'p' tag\")\n",
       "        console.log(div)\n",
       "    }\n",
       "\n",
       "    // add the P tag when our button is clicked\n",
       "    var myButton = document.getElementById(\"buttonID\")\n",
       "    myButton.onclick = addPTagOnButton\n",
       "    \n",
       "</script>\n"
      ],
      "text/plain": [
       "<IPython.core.display.HTML object>"
      ]
     },
     "metadata": {},
     "output_type": "display_data"
    }
   ],
   "source": [
    "%%html\n",
    "<!-- the ID must be specified on the elements -->\n",
    "<button id=\"buttonID\">Switched!</button>\n",
    "\n",
    "<div id=\"divContainerIDbutton\">\n",
    "    <h1 id=\"h1ElementIDbutton\">TITLE</h1>\n",
    "</div>\n",
    "\n",
    "<!-- our javascript goe here -->\n",
    "<script>\n",
    "    // define a function => takes parameter text, returns a new p tab\n",
    "    function createPTag(text) {\n",
    "        // creates a new element\n",
    "        var pElement = document.createElement(\"p\")\n",
    "\n",
    "        // using the parameter like a variable\n",
    "        pElement.innerHTML = text\n",
    "        \n",
    "        // outputs p tag after it has been created\n",
    "        console.log(\"Example #7.1, add p tag using a function\")\n",
    "        console.log(pElement)\n",
    "\n",
    "        return pElement;\n",
    "    }\n",
    "\n",
    "    // create a function that sets specific text and adds to div\n",
    "    function addPTagOnButton() {\n",
    "        // using our new function\n",
    "        var pTag = createPTag(\"WOW you switched it\")\n",
    "\n",
    "        // place the p element in the webpage\n",
    "        var div = document.getElementById(\"divContainerIDbutton\")\n",
    "\n",
    "        // add p tag to the div\n",
    "        div.appendChild(pTag)\n",
    "        \n",
    "        // outputs p tag after it has been created\n",
    "        console.log(\"Example #7.2, update container adding a 'p' tag\")\n",
    "        console.log(div)\n",
    "    }\n",
    "\n",
    "    // add the P tag when our button is clicked\n",
    "    var myButton = document.getElementById(\"buttonID\")\n",
    "    myButton.onclick = addPTagOnButton\n",
    "    \n",
    "</script>"
   ]
  }
 ],
 "metadata": {
  "kernelspec": {
   "display_name": "Python 3 (ipykernel)",
   "language": "python",
   "name": "python3"
  },
  "language_info": {
   "codemirror_mode": {
    "name": "ipython",
    "version": 3
   },
   "file_extension": ".py",
   "mimetype": "text/x-python",
   "name": "python",
   "nbconvert_exporter": "python",
   "pygments_lexer": "ipython3",
   "version": "3.10.12"
  }
 },
 "nbformat": 4,
 "nbformat_minor": 2
}
