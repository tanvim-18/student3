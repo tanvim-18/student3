{
 "cells": [
  {
   "cell_type": "code",
   "execution_count": null,
   "id": "88196220",
   "metadata": {},
   "outputs": [],
   "source": [
    "import random\n",
    "\n",
    "# Dictionary of chemical elements and their symbols\n",
    "chemical_elements = {\n",
    "    \"Hydrogen\": \"H\",\n",
    "    \"Helium\": \"He\",\n",
    "    \"Carbon\": \"C\",\n",
    "    \"Oxygen\": \"O\",\n",
    "    \"Nitrogen\": \"N\",\n",
    "    # Add more elements here\n",
    "}\n",
    "\n",
    "def quiz_user():\n",
    "    # Choose a random element\n",
    "    element, symbol = random.choice(list(chemical_elements.items()))\n",
    "   \n",
    "    # Ask the user for the symbol of the element\n",
    "    user_input = input(f\"What is the symbol for {element}? \").strip()\n",
    "   \n",
    "    # Check the user's answer\n",
    "    if user_input.upper() == symbol:\n",
    "        print(\"Correct! Well done.\")\n",
    "    else:\n",
    "        print(f\"Sorry, the correct symbol for {element} is {symbol}.\")\n",
    "\n",
    "# Play the game\n",
    "while True:\n",
    "    try:\n",
    "        quiz_user()\n",
    "        play_again = input(\"Play again? (yes/no): \").strip().lower()\n",
    "        if play_again != \"yes\":\n",
    "            break\n",
    "    except KeyboardInterrupt:\n",
    "        print(\"\\nGoodbye!\")\n",
    "        break\n",
    "    except Exception as e:\n",
    "        print(f\"An error occurred: {e}\")"
   ]
  },
  {
   "cell_type": "code",
   "execution_count": null,
   "id": "45a62342",
   "metadata": {},
   "outputs": [],
   "source": []
  },
  {
   "cell_type": "code",
   "execution_count": null,
   "id": "d53e4ce0",
   "metadata": {},
   "outputs": [],
   "source": []
  }
 ],
 "metadata": {
  "kernelspec": {
   "display_name": "Python 3 (ipykernel)",
   "language": "python",
   "name": "python3"
  },
  "language_info": {
   "codemirror_mode": {
    "name": "ipython",
    "version": 3
   },
   "file_extension": ".py",
   "mimetype": "text/x-python",
   "name": "python",
   "nbconvert_exporter": "python",
   "pygments_lexer": "ipython3",
   "version": "3.10.12"
  }
 },
 "nbformat": 4,
 "nbformat_minor": 5
}
