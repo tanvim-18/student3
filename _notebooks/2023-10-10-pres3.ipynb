{
 "cells": [
  {
   "cell_type": "markdown",
   "metadata": {},
   "source": [
    "---\n",
    "toc: true\n",
    "comments: true\n",
    "layout: post\n",
    "title: Presentation 3\n",
    "description: This is what I learned from presentation 3\n",
    "type: hacks\n",
    "courses: { compsci: {week: 4} }\n",
    "---\n"
   ]
  },
  {
   "cell_type": "code",
   "execution_count": null,
   "metadata": {},
   "outputs": [],
   "source": [
    "highest_score=Name\n",
    "scores = [10,15,38,2,78,94,19]\n",
    "\n",
    "for score in scores:\n",
    "    if highest_score "
   ]
  },
  {
   "cell_type": "code",
   "execution_count": 2,
   "metadata": {},
   "outputs": [
    {
     "name": "stdout",
     "output_type": "stream",
     "text": [
      "you can't vote \n"
     ]
    }
   ],
   "source": [
    "age = 17\n",
    "if age <= 18:\n",
    "    print(\"you can't vote \")\n",
    "else:\n",
    "    print(\"you can vote\")"
   ]
  },
  {
   "cell_type": "code",
   "execution_count": 1,
   "metadata": {},
   "outputs": [
    {
     "name": "stdout",
     "output_type": "stream",
     "text": [
      "not an even num\n",
      "2\n",
      "not an even num\n",
      "4\n",
      "not an even num\n",
      "6\n",
      "not an even num\n",
      "8\n",
      "not an even num\n",
      "10\n"
     ]
    }
   ],
   "source": [
    "for i in range(1,11):\n",
    "    if (i%2 ==0):   \n",
    "        print(i)\n",
    "\n",
    "    else:\n",
    "        print(\"not an even num\")"
   ]
  },
  {
   "cell_type": "code",
   "execution_count": 3,
   "metadata": {},
   "outputs": [
    {
     "name": "stdout",
     "output_type": "stream",
     "text": [
      "the factorial of 5 is : 120\n"
     ]
    }
   ],
   "source": [
    "def factorial(n):\n",
    "    if n==0:\n",
    "        return 1\n",
    "    else:\n",
    "        return n * factorial(n-1)\n",
    "result= factorial(5)\n",
    "print(\"the factorial of 5 is :\", result)"
   ]
  },
  {
   "cell_type": "code",
   "execution_count": 6,
   "metadata": {},
   "outputs": [
    {
     "name": "stdout",
     "output_type": "stream",
     "text": [
      "0\n",
      "1\n",
      "1\n",
      "2\n",
      "3\n",
      "5\n",
      "8\n",
      "13\n",
      "21\n",
      "34\n"
     ]
    }
   ],
   "source": [
    "def fibonacci(x):\n",
    "    if x ==1:\n",
    "        return(0) #first terminating statement\n",
    "    if x ==2:\n",
    "        return(1) #second terminating statement\n",
    "    \n",
    "    else:\n",
    "        return(fibonacci(x-1) + fibonacci(x-2))\n",
    "\n",
    "for i in range(10):\n",
    "    print(fibonacci(i+1))"
   ]
  }
 ],
 "metadata": {
  "kernelspec": {
   "display_name": "Python 3",
   "language": "python",
   "name": "python3"
  },
  "language_info": {
   "codemirror_mode": {
    "name": "ipython",
    "version": 3
   },
   "file_extension": ".py",
   "mimetype": "text/x-python",
   "name": "python",
   "nbconvert_exporter": "python",
   "pygments_lexer": "ipython3",
   "version": "3.10.12"
  }
 },
 "nbformat": 4,
 "nbformat_minor": 2
}
