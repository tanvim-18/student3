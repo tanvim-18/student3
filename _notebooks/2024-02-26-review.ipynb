{
 "cells": [
  {
   "cell_type": "markdown",
   "metadata": {},
   "source": [
    "Condensed Project Overview:\n",
    "\n",
    "Our Project is a version of cool math games. We each created different games such as ping pong, 2048 merge, memory game, and tetris. We also decided to make some of our games chemistry themed, so that it would be educational, and the students can memorize chemistry elements of the periodic table of elements. "
   ]
  },
  {
   "cell_type": "markdown",
   "metadata": {},
   "source": [
    "My Key Feature\n",
    "\n",
    "I worked on the Memory Matching Game. There are many different elements, all the way from the atomic number of 1 to 20. They will be shuffled and you have to match them together. You can also pick a different grid level to be more challenged. The game times you and sees how fast you can complete the game. "
   ]
  },
  {
   "cell_type": "markdown",
   "metadata": {},
   "source": []
  }
 ],
 "metadata": {
  "language_info": {
   "name": "python"
  }
 },
 "nbformat": 4,
 "nbformat_minor": 2
}
