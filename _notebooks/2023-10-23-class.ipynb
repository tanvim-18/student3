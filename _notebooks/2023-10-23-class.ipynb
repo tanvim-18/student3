{
 "cells": [
  {
   "cell_type": "code",
   "execution_count": 1,
   "metadata": {},
   "outputs": [
    {
     "data": {
      "application/javascript": "\nclass studyTools{\n    constructor(flashcard, highlighter, calculator){\n        // 'this' here is used to say that this attribute belongs to this class\n        this.highlighter = highlighter;\n        this.flashcard = flashcard;\n        this.calculator = calulator;\n    }\n    \n    makeSound() {\n        console.log(this.sound);\n        // Additional code to make sound goes here\n    }\n\n}\n\n// define the variables we will pass into our cat class\nvar furColor = \"Black\";\nvar weight = 9;\nvar breed = \"Bombay\"\nvar sound = \"meow\"\n\n// to make a new cat you need to call new and pass \n// all of the variables that the cat constructor is expecting\nvar cat = new Cat(furColor, weight, breed, sound);\n\n// call a class function\ncat.makeSound();\n",
      "text/plain": [
       "<IPython.core.display.Javascript object>"
      ]
     },
     "metadata": {},
     "output_type": "display_data"
    }
   ],
   "source": [
    "%%js\n",
    "\n",
    "class studyTools{\n",
    "    constructor(flashcard, highlighter, calculator){\n",
    "        // 'this' here is used to say that this attribute belongs to this class\n",
    "        this.highlighter = highlighter;\n",
    "        this.flashcard = flashcard;\n",
    "        this.calculator = calulator;\n",
    "    }\n",
    "    \n",
    "    makeSound() {\n",
    "        console.log(this.sound);\n",
    "        // Additional code to make sound goes here\n",
    "    }\n",
    "\n",
    "}\n",
    "\n",
    "// define the variables we will pass into our cat class\n",
    "var furColor = \"Black\";\n",
    "var weight = 9;\n",
    "var breed = \"Bombay\"\n",
    "var sound = \"meow\"\n",
    "\n",
    "// to make a new cat you need to call new and pass \n",
    "// all of the variables that the cat constructor is expecting\n",
    "var cat = new Cat(furColor, weight, breed, sound);\n",
    "\n",
    "// call a class function\n",
    "cat.makeSound();"
   ]
  }
 ],
 "metadata": {
  "kernelspec": {
   "display_name": "Python 3",
   "language": "python",
   "name": "python3"
  },
  "language_info": {
   "codemirror_mode": {
    "name": "ipython",
    "version": 3
   },
   "file_extension": ".py",
   "mimetype": "text/x-python",
   "name": "python",
   "nbconvert_exporter": "python",
   "pygments_lexer": "ipython3",
   "version": "3.10.12"
  }
 },
 "nbformat": 4,
 "nbformat_minor": 2
}
